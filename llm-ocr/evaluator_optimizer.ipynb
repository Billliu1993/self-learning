{
 "cells": [
  {
   "cell_type": "code",
   "execution_count": 1,
   "metadata": {},
   "outputs": [
    {
     "data": {
      "text/plain": [
       "True"
      ]
     },
     "execution_count": 1,
     "metadata": {},
     "output_type": "execute_result"
    }
   ],
   "source": [
    "from dotenv import load_dotenv\n",
    "load_dotenv()"
   ]
  },
  {
   "cell_type": "code",
   "execution_count": 14,
   "metadata": {},
   "outputs": [],
   "source": [
    "from pydantic import BaseModel, Field\n",
    "from typing_extensions import TypedDict, Literal\n",
    "from IPython.display import Image, display\n",
    "from langgraph.graph import StateGraph, START, END\n",
    "from langgraph.managed.is_last_step import RemainingSteps\n",
    "from langchain_openai import ChatOpenAI\n",
    "from langchain_core.messages import HumanMessage, SystemMessage, AIMessage\n",
    "\n",
    "from docling.document_converter import DocumentConverter\n",
    "from docling.datamodel.base_models import InputFormat"
   ]
  },
  {
   "cell_type": "code",
   "execution_count": 28,
   "metadata": {},
   "outputs": [],
   "source": [
    "class Feedback(BaseModel):\n",
    "    grade: Literal[\"matched\", \"mismatched\"] = Field(\n",
    "        description=\"Decide if the extracted information matches the OCR text\"\n",
    "    )\n",
    "    feedback: str = Field(\n",
    "        description=\"If the extracted information does not match the OCR text, provide feedback on how to improve and modify it\"\n",
    "    )\n",
    "\n",
    "\n",
    "class ExtractedInfo(BaseModel):\n",
    "    company_name: str = Field(description=\"Name of the company\")\n",
    "    year_ended_date: str = Field(\n",
    "        description=\"Year ended date of the financial statement in the format of YYYY-MM-DD\"\n",
    "    )\n",
    "    total_current_assets: float = Field(\n",
    "        description=\"Total current assets of the company in the year\"\n",
    "    )\n",
    "    total_assets: float = Field(description=\"Total assets of the company in the year\")\n",
    "    total_equity_and_liabilities: float = Field(\n",
    "        description=\"Total equity and liabilities of the company in the year\"\n",
    "    )\n",
    "\n",
    "\n",
    "class State(TypedDict):\n",
    "    file: str\n",
    "    ocr_text: str\n",
    "    extracted_info: ExtractedInfo\n",
    "    feedback: str\n",
    "    match_or_not: str\n",
    "    retry_number: int"
   ]
  },
  {
   "cell_type": "code",
   "execution_count": 16,
   "metadata": {},
   "outputs": [],
   "source": [
    "# ocr\n",
    "doc_converter = DocumentConverter()\n",
    "doc_converter.initialize_pipeline(InputFormat.PDF)\n",
    "\n",
    "# llm\n",
    "llm = ChatOpenAI(model=\"gpt-4o\", temperature=0, verbose=True)\n",
    "generator = llm.with_structured_output(ExtractedInfo)\n",
    "evaluator = llm.with_structured_output(Feedback)"
   ]
  },
  {
   "cell_type": "code",
   "execution_count": 36,
   "metadata": {},
   "outputs": [
    {
     "data": {
      "image/png": "[encoded data removed]",
      "text/plain": [
       "<IPython.core.display.Image object>"
      ]
     },
     "metadata": {},
     "output_type": "display_data"
    }
   ],
   "source": [
    "# nodes\n",
    "def ocr_to_markdown(state: State):\n",
    "    \"\"\"OCR converts the image to markdown text\"\"\"\n",
    "    result = doc_converter.convert(state[\"file\"])\n",
    "    result_md = result.document.export_to_markdown()\n",
    "    return {\"ocr_text\": result_md}\n",
    "\n",
    "\n",
    "def llm_call_generator(state: State):\n",
    "    \"\"\"LLM extracts structured information from OCR text\"\"\"\n",
    "    system_prompt = \"\"\" \n",
    "    You are a helpful AI assistant that can extract structured financial information from OCR texts of company's financial statements.\n",
    "    You should only extract the information from the provided OCR text, and do not make any assumptions or inferences.\n",
    "    You should follow the steps to complete the task:\n",
    "    1. Review the OCR text collectively to comprehend the information.\n",
    "    2. Extract the following information from the OCR text:\n",
    "        - Company name\n",
    "        - Year ended date\n",
    "        - Total current assets\n",
    "        - Total assets\n",
    "        - Total equity and liabilities\n",
    "    3. Provide the extracted information in the structured format.\n",
    "    \"\"\"\n",
    "    current_retry_number = state.get(\"retry_number\")\n",
    "    current_retry_number -= 1\n",
    "    if state.get(\"feedback\"):\n",
    "        \n",
    "        response = generator.invoke(\n",
    "            [\n",
    "                SystemMessage(content=system_prompt),\n",
    "                HumanMessage(content=state[\"ocr_text\"]),\n",
    "                AIMessage(content=state[\"extracted_info\"].model_dump_json()),\n",
    "                AIMessage(content=state[\"feedback\"]),\n",
    "            ]\n",
    "        )\n",
    "    else:\n",
    "        response = generator.invoke(\n",
    "            [\n",
    "                SystemMessage(content=system_prompt),\n",
    "                HumanMessage(content=state[\"ocr_text\"]),\n",
    "            ]\n",
    "        )\n",
    "    return {\"extracted_info\": response, 'retry_number': current_retry_number}\n",
    "\n",
    "\n",
    "def llm_call_evaluator(state: State):\n",
    "    \"\"\"LLM evaluates the extracted information\"\"\"\n",
    "    system_prompt = \"\"\" \n",
    "    You are a helpful AI assistant that can verify the extracted structured financial information from OCR texts of company's financial statements.\n",
    "    You should only need to verify the extracted field from the provided OCR text, and do not suggest adding other information that is not being extracted.\n",
    "    You should follow the steps to complete the task:\n",
    "    1. Only compare the extracted information against the original OCR texts to find mismatched places. \n",
    "    2. The extracted field name may not be completely identical to the original field name in the OCR text. These differences should not be considered as mismatched. For example, total_equity_and_liabilities is equivalent to total_liabilities_and_owners_equity.\n",
    "    3. If you find mismatched places, explain why you think they are mismatched.\n",
    "    4. Provide the feedback in the structured format.\n",
    "    \"\"\"\n",
    "    response = evaluator.invoke(\n",
    "        [\n",
    "            SystemMessage(content=system_prompt),\n",
    "            HumanMessage(content=state[\"ocr_text\"]),\n",
    "            AIMessage(content=state[\"extracted_info\"].model_dump_json()),\n",
    "        ]\n",
    "    )\n",
    "    return {\"feedback\": response.feedback, \"match_or_not\": response.grade}\n",
    "\n",
    "\n",
    "# edges\n",
    "def route_extraction(state: State):\n",
    "    if state[\"retry_number\"] == 0:\n",
    "        return \"Accepted\"\n",
    "    if state[\"match_or_not\"] == \"matched\":\n",
    "        return \"Accepted\"\n",
    "    elif state[\"match_or_not\"] == \"mismatched\":\n",
    "        return \"Rejected + Feedback\"\n",
    "\n",
    "\n",
    "# graph\n",
    "graph_builder = StateGraph(State)\n",
    "\n",
    "# add nodes\n",
    "graph_builder.add_node(\"ocr_to_markdown\", ocr_to_markdown)\n",
    "graph_builder.add_node(\"llm_call_generator\", llm_call_generator)\n",
    "graph_builder.add_node(\"llm_call_evaluator\", llm_call_evaluator)\n",
    "\n",
    "# add edges\n",
    "graph_builder.add_edge(START, \"ocr_to_markdown\")\n",
    "graph_builder.add_edge(\"ocr_to_markdown\", \"llm_call_generator\")\n",
    "graph_builder.add_edge(\"llm_call_generator\", \"llm_call_evaluator\")\n",
    "graph_builder.add_conditional_edges(\n",
    "    \"llm_call_evaluator\",\n",
    "    route_extraction,\n",
    "    {\"Accepted\": END, \"Rejected + Feedback\": \"llm_call_generator\"},\n",
    ")\n",
    "\n",
    "workflow = graph_builder.compile()\n",
    "\n",
    "display(Image(workflow.get_graph().draw_mermaid_png()))"
   ]
  },
  {
   "cell_type": "code",
   "execution_count": 7,
   "metadata": {},
   "outputs": [],
   "source": [
    "def doc_to_markdown(doc):\n",
    "    result = doc_converter.convert(doc)\n",
    "    result_md = result.document.export_to_markdown()\n",
    "    return result_md"
   ]
  },
  {
   "cell_type": "code",
   "execution_count": 8,
   "metadata": {},
   "outputs": [],
   "source": [
    "# downloaded from https://mbpc.tcnj.edu/wp-content/uploads/sites/148/2021/10/Sample-Financial-Statements-1.pdf\n",
    "doc = \"test_files/Sample-Financial-Statements-1.pdf\"\n",
    "md = doc_to_markdown(doc)"
   ]
  },
  {
   "cell_type": "code",
   "execution_count": 9,
   "metadata": {},
   "outputs": [
    {
     "name": "stdout",
     "output_type": "stream",
     "text": [
      "## Sample Company\n",
      "\n",
      "## Income Statement (Service)\n",
      "\n",
      "For the Year Ended September 30, 2021\n",
      "\n",
      "Service revenue\n",
      "\n",
      "$2,750\n",
      "\n",
      "| Operating Expenses:  Depreciation expense  Wages expenses  Supplies expenses   | 100  1,200   |       |\n",
      "|--------------------------------------------------------------------------------|--------------|-------|\n",
      "|                                                                                | 60           |       |\n",
      "| Total operating expenses                                                       |              | 1,360 |\n",
      "| Operating Income                                                               |              | 1,390 |\n",
      "| Other Item:  Interest expense                                                  | 40           |       |\n",
      "| Pretax income                                                                  |              | 1,350 |\n",
      "| Income tax expense                                                             | 405          |       |\n",
      "| Net income                                                                     |              | $945  |\n",
      "\n",
      "## Sample Company Statement of Retained Earnings For the Year Ended September 30, 2021\n",
      "\n",
      "|                             | Retained Earnings   |\n",
      "|-----------------------------|---------------------|\n",
      "| Balance, October 1, 2020    | $  820              |\n",
      "| Net income                  | 945                 |\n",
      "| Dividends declared          | (500)               |\n",
      "| Balance, September 30, 2021 | $1,265              |\n",
      "\n",
      "## Sample Company\n",
      "\n",
      "## Income Statement (Product) For the Year Ended September 30, 2021\n",
      "\n",
      "| Sales revenue                  |       | $6,875   |\n",
      "|--------------------------------|-------|----------|\n",
      "| Cost of Goods Sold             |       | ( 4,125) |\n",
      "| Gross Profit                   |       | $2,750   |\n",
      "| Operating Expenses:            |       |          |\n",
      "| Depreciation expense           | 100   |          |\n",
      "| Wages expenses                 | 1,200 |          |\n",
      "| Supplies expenses              | 60    |          |\n",
      "| Total operating expenses       |       | 1,360    |\n",
      "| Operating Income               |       | 1,390    |\n",
      "| Other Item:                    |       |          |\n",
      "| Interest expense               | 40    |          |\n",
      "| Pretax income                  |       | 1,350    |\n",
      "| Income tax expense  Net income | 405   | $945     |\n",
      "\n",
      "Sample Company Statement of Retained Earnings For the Year Ended September 30, 2021\n",
      "\n",
      "|                             | Retained Earnings   |\n",
      "|-----------------------------|---------------------|\n",
      "| Balance, October 1, 2020    | $  820              |\n",
      "| Net income                  | 945                 |\n",
      "| Dividends declared          | (500)               |\n",
      "| Balance, September 30, 2021 | $1,265              |\n",
      "\n",
      "## Sample Company Balance Sheet September 30, 2021\n",
      "\n",
      "| Assets                    |         | Liabilities and Stockholders' Equity   |         |\n",
      "|---------------------------|---------|----------------------------------------|---------|\n",
      "| Current Assets:           |         | Current Liabilities:                   |         |\n",
      "| Cash                      | $ 1,550 | Accounts payable                       | $60     |\n",
      "| Accounts receivable       | 770     | Interest payable                       | 80      |\n",
      "| Supplies                  | 40      | Wages payable                          | 100     |\n",
      "| Total current assets      | 2,360   | Income taxes payable                   | 405     |\n",
      "|                           |         | Utilities payable                      | 250     |\n",
      "|                           |         | Total Current Liabilities              | 895     |\n",
      "| Equipment                 | 12,000  | Long-term Notes Payable                | 8,000   |\n",
      "| Less: Accumulated deprec. | (1,300) |                                        |         |\n",
      "|                           | 10,700  | Owners' Equity:                        |         |\n",
      "|                           |         | Owners' capital                        | 2,900   |\n",
      "|                           |         | Retained earnings  Total equity        | 1,265   |\n",
      "|                           |         |                                        | 4,165   |\n",
      "| Total assets              | $13,060 | Total liabilities and  owners' equity  | $13,060 |\n"
     ]
    }
   ],
   "source": [
    "print(md)"
   ]
  },
  {
   "cell_type": "code",
   "execution_count": 37,
   "metadata": {},
   "outputs": [],
   "source": [
    "test_state = workflow.invoke({\"file\": \"test_files/Sample-Financial-Statements-1.pdf\", \"retry_number\": 3}, )"
   ]
  },
  {
   "cell_type": "code",
   "execution_count": 39,
   "metadata": {},
   "outputs": [
    {
     "name": "stdout",
     "output_type": "stream",
     "text": [
      "{\n",
      "  \"company_name\": \"Sample Company\",\n",
      "  \"year_ended_date\": \"2021-09-30\",\n",
      "  \"total_current_assets\": 2360.0,\n",
      "  \"total_assets\": 13060.0,\n",
      "  \"total_equity_and_liabilities\": 13060.0\n",
      "}\n"
     ]
    }
   ],
   "source": [
    "print(test_state['extracted_info'].model_dump_json(indent=2))"
   ]
  },
  {
   "cell_type": "code",
   "execution_count": null,
   "metadata": {},
   "outputs": [],
   "source": []
  }
 ],
 "metadata": {
  "kernelspec": {
   "display_name": ".venv",
   "language": "python",
   "name": "python3"
  },
  "language_info": {
   "codemirror_mode": {
    "name": "ipython",
    "version": 3
   },
   "file_extension": ".py",
   "mimetype": "text/x-python",
   "name": "python",
   "nbconvert_exporter": "python",
   "pygments_lexer": "ipython3",
   "version": "3.12.7"
  }
 },
 "nbformat": 4,
 "nbformat_minor": 2
}
