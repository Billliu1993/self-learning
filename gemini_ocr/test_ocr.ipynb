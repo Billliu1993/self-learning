{
 "cells": [
  {
   "cell_type": "code",
   "execution_count": 1,
   "metadata": {},
   "outputs": [],
   "source": [
    "%load_ext autoreload\n",
    "%autoreload 2"
   ]
  },
  {
   "cell_type": "code",
   "execution_count": 2,
   "metadata": {},
   "outputs": [],
   "source": [
    "import os\n",
    "os.chdir(\"..\")\n",
    "from dotenv import load_dotenv\n",
    "load_dotenv()\n",
    "os.chdir(\"gemini_ocr\")"
   ]
  },
  {
   "cell_type": "code",
   "execution_count": 4,
   "metadata": {},
   "outputs": [],
   "source": [
    "from ocr import OCR\n",
    "from pydantic_models import BankStatement"
   ]
  },
  {
   "cell_type": "code",
   "execution_count": null,
   "metadata": {},
   "outputs": [],
   "source": [
    "# sample downloaded from https://www.commercebank.com/-/media/cb/pdf/personal/bank/statement_sample1.pdf?revision=54d56c85-b8e2-40a4-bd17-e09697b71bc6&modified=20211119170100\n",
    "ocr_test = OCR(\"sample_pdf/sample_bank_statement.pdf\")"
   ]
  },
  {
   "cell_type": "code",
   "execution_count": 6,
   "metadata": {},
   "outputs": [
    {
     "name": "stdout",
     "output_type": "stream",
     "text": [
      "File: sample_pdf/sample_bank_statement.pdf equals to 259 tokens\n"
     ]
    }
   ],
   "source": [
    "ocr_test.upload_file()\n",
    "ocr_test.estimate_cost()"
   ]
  },
  {
   "cell_type": "code",
   "execution_count": 14,
   "metadata": {},
   "outputs": [],
   "source": [
    "ocr_results = ocr_test.extract_text(BankStatement)"
   ]
  },
  {
   "cell_type": "code",
   "execution_count": 15,
   "metadata": {},
   "outputs": [
    {
     "name": "stdout",
     "output_type": "stream",
     "text": [
      "{\n",
      "  \"bank_name\": \"Commerce Bank\",\n",
      "  \"bank_address\": \"1000 Walnut\\nKansas City ΜΟ 64106-3686\",\n",
      "  \"account_holder_name\": \"Jane Customer\",\n",
      "  \"account_holder_address\": \"1234 Anywhere Dr.\\nSmall Town, ΜΟ 12345-6789\",\n",
      "  \"account_number\": \"000009752\",\n",
      "  \"statement_start_date\": \"2003-05-03\",\n",
      "  \"statement_end_date\": \"2003-06-05\",\n",
      "  \"statement_beginning_balance\": 7126.11,\n",
      "  \"statement_ending_balance\": 10521.19,\n",
      "  \"transactions\": [\n",
      "    {\n",
      "      \"transaction_date\": \"2003-05-15\",\n",
      "      \"transaction_amount\": 3615.08,\n",
      "      \"transaction_type\": \"Deposit\",\n",
      "      \"transaction_description\": \"Deposit\"\n",
      "    },\n",
      "    {\n",
      "      \"transaction_date\": \"2003-05-19\",\n",
      "      \"transaction_amount\": -20.0,\n",
      "      \"transaction_type\": \"Withdrawal\",\n",
      "      \"transaction_description\": \"ATM Withdrawal\"\n",
      "    },\n",
      "    {\n",
      "      \"transaction_date\": \"2003-05-12\",\n",
      "      \"transaction_amount\": -75.0,\n",
      "      \"transaction_type\": \"Check\",\n",
      "      \"transaction_description\": \"1001\"\n",
      "    },\n",
      "    {\n",
      "      \"transaction_date\": \"2003-05-18\",\n",
      "      \"transaction_amount\": -30.0,\n",
      "      \"transaction_type\": \"Check\",\n",
      "      \"transaction_description\": \"1002\"\n",
      "    },\n",
      "    {\n",
      "      \"transaction_date\": \"2003-05-24\",\n",
      "      \"transaction_amount\": -200.0,\n",
      "      \"transaction_type\": \"Check\",\n",
      "      \"transaction_description\": \"1003\"\n",
      "    }\n",
      "  ]\n",
      "}\n"
     ]
    }
   ],
   "source": [
    "print(ocr_results.model_dump_json(indent=2))"
   ]
  }
 ],
 "metadata": {
  "kernelspec": {
   "display_name": ".venv",
   "language": "python",
   "name": "python3"
  },
  "language_info": {
   "codemirror_mode": {
    "name": "ipython",
    "version": 3
   },
   "file_extension": ".py",
   "mimetype": "text/x-python",
   "name": "python",
   "nbconvert_exporter": "python",
   "pygments_lexer": "ipython3",
   "version": "3.12.7"
  }
 },
 "nbformat": 4,
 "nbformat_minor": 2
}
