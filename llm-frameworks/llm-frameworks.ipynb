{
 "cells": [
  {
   "cell_type": "markdown",
   "metadata": {},
   "source": [
    "# LLM Frameworks: Pros and Cons\n",
    "\n",
    "## Advantages\n",
    "- Simplified setup and integration with LLMs\n",
    "- Streamlined handling of common tasks like:\n",
    "  - Making LLM API calls\n",
    "  - Tool definition and parsing\n",
    "  - Chain orchestration\n",
    "- Reduced boilerplate code\n",
    "- Faster development cycles\n",
    "\n",
    "## Disadvantages\n",
    "- Additional layers of abstraction\n",
    "- Less visibility into underlying prompts and responses\n",
    "- More challenging to debug issues\n",
    "- Potential performance overhead\n",
    "- May hide important implementation details\n",
    "\n",
    "## Key Insights\n",
    "- LLM frameworks provide convenience but don't enable fundamentally new capabilities\n",
    "- Framework selection should align with your development style and needs\n",
    "- Understanding the underlying prompts and mechanisms is crucial for effective framework usage\n",
    "\n",
    "## References\n",
    "- [Building Effective Agents - Anthropic Engineering Blog](https://www.anthropic.com/engineering/building-effective-agents)"
   ]
  },
  {
   "cell_type": "markdown",
   "metadata": {},
   "source": [
    "# Example: Direct API Calling\n",
    "Chain Workflow with each step progressively transforms raw text into a formatted table\n",
    "\n",
    "[Using Anthropic cookbook example](https://github.com/anthropics/anthropic-cookbook/blob/main/patterns/agents/basic_workflows.ipynb)"
   ]
  },
  {
   "cell_type": "code",
   "execution_count": 1,
   "metadata": {},
   "outputs": [],
   "source": [
    "%load_ext autoreload\n",
    "%autoreload 2"
   ]
  },
  {
   "cell_type": "code",
   "execution_count": 2,
   "metadata": {},
   "outputs": [],
   "source": [
    "from dotenv import load_dotenv\n",
    "load_dotenv()\n",
    "from vanilla_example import chain"
   ]
  },
  {
   "cell_type": "code",
   "execution_count": 3,
   "metadata": {},
   "outputs": [
    {
     "name": "stdout",
     "output_type": "stream",
     "text": [
      "\n",
      "Input text:\n",
      "\n",
      "Q3 Performance Summary:\n",
      "Our customer satisfaction score rose to 92 points this quarter.\n",
      "Revenue grew by 45% compared to last year.\n",
      "Market share is now at 23% in our primary market.\n",
      "Customer churn decreased to 5% from 8%.\n",
      "New user acquisition cost is $43 per user.\n",
      "Product adoption rate increased to 78%.\n",
      "Employee satisfaction is at 87 points.\n",
      "Operating margin improved to 34%.\n",
      "\n",
      "\n",
      "Step 1:\n",
      "92: customer satisfaction  \n",
      "45%: revenue growth  \n",
      "23%: market share  \n",
      "5%: customer churn  \n",
      "$43: user acquisition cost  \n",
      "78%: product adoption rate  \n",
      "87: employee satisfaction  \n",
      "34%: operating margin  \n",
      "\n",
      "Step 2:\n",
      "92%: customer satisfaction  \n",
      "45%: revenue growth  \n",
      "23%: market share  \n",
      "5%: customer churn  \n",
      "43%: user acquisition cost  \n",
      "78%: product adoption rate  \n",
      "87%: employee satisfaction  \n",
      "34%: operating margin  \n",
      "\n",
      "Step 3:\n",
      "Here is the sorted list in descending order by numerical value:\n",
      "\n",
      "92%: customer satisfaction  \n",
      "87%: employee satisfaction  \n",
      "78%: product adoption rate  \n",
      "45%: revenue growth  \n",
      "43%: user acquisition cost  \n",
      "34%: operating margin  \n",
      "23%: market share  \n",
      "5%: customer churn  \n",
      "\n",
      "Step 4:\n",
      "Here is the formatted markdown table based on the provided sorted data:\n",
      "\n",
      "```markdown\n",
      "| Metric                       | Value |\n",
      "|:-----------------------------|------:|\n",
      "| Customer Satisfaction         |  92%  |\n",
      "| Employee Satisfaction         |  87%  |\n",
      "| Product Adoption Rate         |  78%  |\n",
      "| Revenue Growth                |  45%  |\n",
      "| User Acquisition Cost         |  43%  |\n",
      "| Operating Margin              |  34%  |\n",
      "| Market Share                  |  23%  |\n",
      "| Customer Churn                |   5%  |\n",
      "```\n",
      "Here is the formatted markdown table based on the provided sorted data:\n",
      "\n",
      "```markdown\n",
      "| Metric                       | Value |\n",
      "|:-----------------------------|------:|\n",
      "| Customer Satisfaction         |  92%  |\n",
      "| Employee Satisfaction         |  87%  |\n",
      "| Product Adoption Rate         |  78%  |\n",
      "| Revenue Growth                |  45%  |\n",
      "| User Acquisition Cost         |  43%  |\n",
      "| Operating Margin              |  34%  |\n",
      "| Market Share                  |  23%  |\n",
      "| Customer Churn                |   5%  |\n",
      "```\n"
     ]
    }
   ],
   "source": [
    "data_processing_steps = [\n",
    "    \"\"\"Extract only the numerical values and their associated metrics from the text.\n",
    "    Format each as 'value: metric' on a new line.\n",
    "    Example format:\n",
    "    92: customer satisfaction\n",
    "    45%: revenue growth\"\"\",\n",
    "    \n",
    "    \"\"\"Convert all numerical values to percentages where possible.\n",
    "    If not a percentage or points, convert to decimal (e.g., 92 points -> 92%).\n",
    "    Keep one number per line.\n",
    "    Example format:\n",
    "    92%: customer satisfaction\n",
    "    45%: revenue growth\"\"\",\n",
    "    \n",
    "    \"\"\"Sort all lines in descending order by numerical value.\n",
    "    Keep the format 'value: metric' on each line.\n",
    "    Example:\n",
    "    92%: customer satisfaction\n",
    "    87%: employee satisfaction\"\"\",\n",
    "    \n",
    "    \"\"\"Format the sorted data as a markdown table with columns:\n",
    "    | Metric | Value |\n",
    "    |:--|--:|\n",
    "    | Customer Satisfaction | 92% |\"\"\"\n",
    "]\n",
    "\n",
    "report = \"\"\"\n",
    "Q3 Performance Summary:\n",
    "Our customer satisfaction score rose to 92 points this quarter.\n",
    "Revenue grew by 45% compared to last year.\n",
    "Market share is now at 23% in our primary market.\n",
    "Customer churn decreased to 5% from 8%.\n",
    "New user acquisition cost is $43 per user.\n",
    "Product adoption rate increased to 78%.\n",
    "Employee satisfaction is at 87 points.\n",
    "Operating margin improved to 34%.\n",
    "\"\"\"\n",
    "\n",
    "print(\"\\nInput text:\")\n",
    "print(report)\n",
    "formatted_result = chain(report, data_processing_steps)\n",
    "print(formatted_result)"
   ]
  },
  {
   "cell_type": "markdown",
   "metadata": {},
   "source": [
    "# Example: with Langgraph"
   ]
  },
  {
   "cell_type": "code",
   "execution_count": 4,
   "metadata": {},
   "outputs": [],
   "source": [
    "from langgraph_example import ReportProcessor\n",
    "from IPython.display import Image, display"
   ]
  },
  {
   "cell_type": "code",
   "execution_count": 5,
   "metadata": {},
   "outputs": [
    {
     "data": {
      "image/png": "[encoded data removed]",
      "text/plain": [
       "<IPython.core.display.Image object>"
      ]
     },
     "metadata": {},
     "output_type": "display_data"
    }
   ],
   "source": [
    "langgraph_processor = ReportProcessor()\n",
    "langgraph_workflow = langgraph_processor.create_workflow()\n",
    "display(Image(langgraph_workflow.get_graph().draw_mermaid_png()))"
   ]
  },
  {
   "cell_type": "code",
   "execution_count": 6,
   "metadata": {},
   "outputs": [],
   "source": [
    "langgraph_state = langgraph_workflow.invoke({\"report\": report})"
   ]
  },
  {
   "cell_type": "code",
   "execution_count": 7,
   "metadata": {},
   "outputs": [
    {
     "name": "stdout",
     "output_type": "stream",
     "text": [
      "report:\n",
      "\n",
      "Q3 Performance Summary:\n",
      "Our customer satisfaction score rose to 92 points this quarter.\n",
      "Revenue grew by 45% compared to last year.\n",
      "Market share is now at 23% in our primary market.\n",
      "Customer churn decreased to 5% from 8%.\n",
      "New user acquisition cost is $43 per user.\n",
      "Product adoption rate increased to 78%.\n",
      "Employee satisfaction is at 87 points.\n",
      "Operating margin improved to 34%.\n",
      "\n",
      "\n",
      "extracted_values:\n",
      "92: customer satisfaction  \n",
      "45%: revenue growth  \n",
      "23%: market share  \n",
      "5%: customer churn  \n",
      "$43: new user acquisition cost  \n",
      "78%: product adoption rate  \n",
      "87: employee satisfaction  \n",
      "34%: operating margin  \n",
      "\n",
      "formatted_values:\n",
      "92%: customer satisfaction  \n",
      "45%: revenue growth  \n",
      "23%: market share  \n",
      "5%: customer churn  \n",
      "0.043: new user acquisition cost  \n",
      "78%: product adoption rate  \n",
      "87%: employee satisfaction  \n",
      "34%: operating margin  \n",
      "\n",
      "sorted_values:\n",
      "Here are the lines sorted in descending order by numerical value:\n",
      "\n",
      "```\n",
      "92%: customer satisfaction  \n",
      "87%: employee satisfaction  \n",
      "78%: product adoption rate  \n",
      "45%: revenue growth  \n",
      "34%: operating margin  \n",
      "23%: market share  \n",
      "5%: customer churn  \n",
      "0.043: new user acquisition cost  \n",
      "```\n",
      "\n",
      "markdown_table:\n",
      "Here is the formatted markdown table with the sorted data:\n",
      "\n",
      "```markdown\n",
      "| Metric                        | Value |\n",
      "|:------------------------------|------:|\n",
      "| Customer Satisfaction          | 92%   |\n",
      "| Employee Satisfaction          | 87%   |\n",
      "| Product Adoption Rate         | 78%   |\n",
      "| Revenue Growth                | 45%   |\n",
      "| Operating Margin              | 34%   |\n",
      "| Market Share                  | 23%   |\n",
      "| Customer Churn                | 5%    |\n",
      "| New User Acquisition Cost      | 0.043 |\n",
      "```\n",
      "\n"
     ]
    }
   ],
   "source": [
    "for key, value in langgraph_state.items():\n",
    "    print(f\"{key}:\")\n",
    "    print(value)\n",
    "    print()"
   ]
  },
  {
   "cell_type": "markdown",
   "metadata": {},
   "source": [
    "Langchain also has its own telemetry / tracing tool (Langsmith), which enables easier debug, monitoring and many other features\n",
    "# ![Sample Langsmith](sample-langsmith.png)"
   ]
  },
  {
   "cell_type": "markdown",
   "metadata": {},
   "source": [
    "# Example: with CrewAI"
   ]
  },
  {
   "cell_type": "code",
   "execution_count": 8,
   "metadata": {},
   "outputs": [],
   "source": [
    "from crewai_example import ReportFormattingCrew"
   ]
  },
  {
   "cell_type": "code",
   "execution_count": 9,
   "metadata": {},
   "outputs": [
    {
     "name": "stdout",
     "output_type": "stream",
     "text": [
      "\u001b[1m\u001b[95m# Agent:\u001b[00m \u001b[1m\u001b[92mReport Formatting Specialist for \u001b[00m\n",
      "\u001b[95m## Task:\u001b[00m \u001b[92mExtract only the numerical values and their associated metrics from the provided report text.\n",
      "Process the following report:\n",
      "``` {content} ```\n",
      "For each numerical value found, extract it along with its associated metric. Format each as 'value: metric' on a new line.\n",
      "Example of expected output format: 92: customer satisfaction 45%: revenue growth\n",
      "\u001b[00m\n",
      "\n",
      "\n",
      "\u001b[1m\u001b[95m# Agent:\u001b[00m \u001b[1m\u001b[92mReport Formatting Specialist for \u001b[00m\n",
      "\u001b[95m## Final Answer:\u001b[00m \u001b[92m\n",
      "92: customer satisfaction  \n",
      "45%: revenue growth  \n",
      "23%: market share  \n",
      "5%: customer churn  \n",
      "8%: previous customer churn  \n",
      "$43: new user acquisition cost  \n",
      "78%: product adoption rate  \n",
      "87: employee satisfaction  \n",
      "34%: operating margin\u001b[00m\n",
      "\n",
      "\n",
      "\u001b[1m\u001b[95m# Agent:\u001b[00m \u001b[1m\u001b[92mReport Formatting Specialist for \u001b[00m\n",
      "\u001b[95m## Task:\u001b[00m \u001b[92mConvert all numerical values to percentages where possible. If not a percentage or points, convert to decimal (e.g., 92 points -> 92%). Keep one number per line. Example format: 92%: customer satisfaction 45%: revenue growth\n",
      "Here are the values to convert: {extract_numerical_values_task.output}\n",
      "\u001b[00m\n",
      "\n",
      "\n",
      "\u001b[1m\u001b[95m# Agent:\u001b[00m \u001b[1m\u001b[92mReport Formatting Specialist for \u001b[00m\n",
      "\u001b[95m## Final Answer:\u001b[00m \u001b[92m\n",
      "92%: customer satisfaction  \n",
      "45%: revenue growth  \n",
      "23%: market share  \n",
      "5%: customer churn  \n",
      "8%: previous customer churn  \n",
      "43%: new user acquisition cost (converted to decimal)  \n",
      "78%: product adoption rate  \n",
      "87%: employee satisfaction  \n",
      "34%: operating margin\u001b[00m\n",
      "\n",
      "\n",
      "\u001b[1m\u001b[95m# Agent:\u001b[00m \u001b[1m\u001b[92mReport Formatting Specialist for \u001b[00m\n",
      "\u001b[95m## Task:\u001b[00m \u001b[92mSort all lines in descending order by numerical value. Keep the format 'value: metric' on each line. Example: 92%: customer satisfaction 87%: employee satisfaction\n",
      "Here are the values to sort: {convert_to_percentages_task.output}\n",
      "\u001b[00m\n",
      "\n",
      "\n",
      "\u001b[1m\u001b[95m# Agent:\u001b[00m \u001b[1m\u001b[92mReport Formatting Specialist for \u001b[00m\n",
      "\u001b[95m## Final Answer:\u001b[00m \u001b[92m\n",
      "92%: customer satisfaction  \n",
      "87%: employee satisfaction  \n",
      "78%: product adoption rate  \n",
      "45%: revenue growth  \n",
      "34%: operating margin  \n",
      "23%: market share  \n",
      "8%: previous customer churn  \n",
      "5%: customer churn  \n",
      "43%: new user acquisition cost (converted to decimal)\u001b[00m\n",
      "\n",
      "\n",
      "\u001b[1m\u001b[95m# Agent:\u001b[00m \u001b[1m\u001b[92mReport Formatting Specialist for \u001b[00m\n",
      "\u001b[95m## Task:\u001b[00m \u001b[92mFormat the sorted data as a markdown table with columns: | Metric | Value | |:--|--:| | Customer Satisfaction | 92% |\n",
      "Here are the sorted values to format: {sort_values_task.output}\n",
      "\u001b[00m\n",
      "\n",
      "\n",
      "\u001b[1m\u001b[95m# Agent:\u001b[00m \u001b[1m\u001b[92mReport Formatting Specialist for \u001b[00m\n",
      "\u001b[95m## Final Answer:\u001b[00m \u001b[92m\n",
      "```markdown\n",
      "| Metric                       | Value   |\n",
      "|:-----------------------------|--------:|\n",
      "| Customer Satisfaction         | 92%     |\n",
      "| Employee Satisfaction         | 87%     |\n",
      "| Product Adoption Rate         | 78%     |\n",
      "| Revenue Growth                | 45%     |\n",
      "| Operating Margin              | 34%     |\n",
      "| Market Share                 | 23%     |\n",
      "| Previous Customer Churn       | 8%      |\n",
      "| Customer Churn                | 5%      |\n",
      "| New User Acquisition Cost     | $43.00  |\n",
      "```\u001b[00m\n",
      "\n",
      "\n"
     ]
    }
   ],
   "source": [
    "crew_instance = ReportFormattingCrew()\n",
    "crew = crew_instance.crew()\n",
    "inputs = {\"content\": report}\n",
    "result = crew.kickoff(inputs=inputs)"
   ]
  },
  {
   "cell_type": "markdown",
   "metadata": {},
   "source": [
    "# Additional Popular LLM Frameworks\n",
    "\n",
    "The examples shown above demonstrate just a few of the available LLM frameworks. Here are some other popular frameworks worth exploring:\n",
    "\n",
    "* [Llama Index](https://github.com/run-llama/llama_index) - A data framework for LLM applications (focus a lot on RAG)\n",
    "* [SmalAgent](https://github.com/huggingface/smolagents) - Lightweight agents from Hugging Face\n",
    "* [AutoGen](https://github.com/microsoft/autogen) - Multi-agent framework from Microsoft"
   ]
  }
 ],
 "metadata": {
  "kernelspec": {
   "display_name": ".venv",
   "language": "python",
   "name": "python3"
  },
  "language_info": {
   "codemirror_mode": {
    "name": "ipython",
    "version": 3
   },
   "file_extension": ".py",
   "mimetype": "text/x-python",
   "name": "python",
   "nbconvert_exporter": "python",
   "pygments_lexer": "ipython3",
   "version": "3.12.7"
  }
 },
 "nbformat": 4,
 "nbformat_minor": 2
}
